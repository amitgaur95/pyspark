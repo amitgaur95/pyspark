{
  "nbformat": 4,
  "nbformat_minor": 0,
  "metadata": {
    "colab": {
      "provenance": [],
      "authorship_tag": "ABX9TyOagYwqT91cT4BU2HBxDAsn",
      "include_colab_link": true
    },
    "kernelspec": {
      "name": "python3",
      "display_name": "Python 3"
    },
    "language_info": {
      "name": "python"
    }
  },
  "cells": [
    {
      "cell_type": "markdown",
      "metadata": {
        "id": "view-in-github",
        "colab_type": "text"
      },
      "source": [
        "<a href=\"https://colab.research.google.com/github/amitgaur95/pyspark/blob/main/googleplaystore_randomforestreg.ipynb\" target=\"_parent\"><img src=\"https://colab.research.google.com/assets/colab-badge.svg\" alt=\"Open In Colab\"/></a>"
      ]
    },
    {
      "cell_type": "code",
      "source": [
        "from pyspark.sql import SparkSession\n",
        "from pyspark.ml.feature import VectorAssembler, StringIndexer\n",
        "from pyspark.ml.regression import RandomForestRegressor\n",
        "from pyspark.ml.evaluation import RegressionEvaluator\n",
        "import pyspark.sql.functions as F\n",
        "import pickle\n",
        "\n",
        "spark = SparkSession.builder.appName(\"PlaystoreRatingPrediction\").getOrCreate()\n",
        "\n",
        "# Loading dataset\n",
        "data = spark.read.csv('/googleplaystore.csv', header=True, inferSchema=True)\n",
        "\n",
        "# existing features and target variable\n",
        "prediction_value = \"Rating\"\n",
        "\n",
        "# Converting categorical variables to numerical using StringIndexer\n",
        "category_indexer = StringIndexer(inputCol=\"Category\", outputCol=\"CategoryIndex\")\n",
        "content_rating_indexer = StringIndexer(inputCol=\"Content Rating\", outputCol=\"ContentRatingIndex\")\n",
        "\n",
        "data = category_indexer.fit(data).transform(data)\n",
        "data = content_rating_indexer.fit(data).transform(data)\n",
        "\n",
        "data = data.withColumn(\"Rating\", data[\"Rating\"].cast(\"int\"))\n",
        "data = data.withColumn(\"Reviews\", data[\"Reviews\"].cast(\"float\"))\n",
        "data = data.withColumn(\"Price\", data[\"Price\"].cast(\"float\"))\n",
        "\n",
        "# Creating vector\n",
        "vector_assembler = VectorAssembler(inputCols=[\"Reviews\", \"Price\", \"CategoryIndex\", \"ContentRatingIndex\"],\n",
        "                                   outputCol=\"features\", handleInvalid=\"keep\")\n",
        "data = vector_assembler.transform(data)\n",
        "\n",
        "# Spliting into training and testing sets\n",
        "(training_data, testing_data) = data.randomSplit([0.8, 0.2], seed=42)\n",
        "\n",
        "# Creating RandomForestRegressor model\n",
        "dt_model = RandomForestRegressor(featuresCol=\"features\", labelCol=prediction_value, numTrees=10)\n",
        "\n",
        "data = data.filter(F.col(\"Rating\").isNotNull())\n",
        "data = data.filter(F.col(\"Reviews\").isNotNull())\n",
        "data = data.filter(F.col(\"Price\").isNotNull())\n",
        "training_data = training_data.filter(F.col(\"Rating\").isNotNull())\n",
        "training_data = training_data.filter(F.col(\"Reviews\").isNotNull())\n",
        "training_data = training_data.filter(F.col(\"Price\").isNotNull())\n",
        "\n",
        "data = data.drop('Category'), data['Category']\n",
        "\n",
        "# Training the model\n",
        "dt_model = dt_model.setParams(maxBins=35)\n",
        "dt_model = dt_model.fit(training_data)\n",
        "\n",
        "# Making predictions on testing set\n",
        "predictions = dt_model.transform(testing_data)\n",
        "\n",
        "try:\n",
        "    predictions = predictions.withColumn(\"Rating\", data[0][\"Rating\"].cast(\"integer\"))\n",
        "    predictions = predictions.withColumn(\"CategoryIndex\", predictions[\"CategoryIndex\"].cast(\"integer\"))\n",
        "    predictions = predictions.withColumn(\"ContentRatingIndex\", predictions[\"ContentRatingIndex\"].cast(\"integer\"))\n",
        "except pickle.PicklingError:\n",
        "    pass\n",
        "\n",
        "# Evaluating model\n",
        "evaluator = RegressionEvaluator(labelCol=prediction_value, predictionCol=\"prediction\", metricName=\"rmse\")\n",
        "predictions = predictions.drop('Category'), predictions['Category']\n",
        "rmse = evaluator.evaluate(predictions[0])\n",
        "print(\"Result of test data =\", rmse)\n"
      ],
      "metadata": {
        "colab": {
          "base_uri": "https://localhost:8080/"
        },
        "id": "m7asOYmWpjCp",
        "outputId": "eab01700-d1ef-4e20-808d-abb88e0110bc"
      },
      "execution_count": null,
      "outputs": [
        {
          "output_type": "stream",
          "name": "stdout",
          "text": [
            "Result of test data = 0.5307265472745697\n"
          ]
        }
      ]
    },
    {
      "cell_type": "code",
      "source": [],
      "metadata": {
        "id": "fKChkTiD4oOq"
      },
      "execution_count": null,
      "outputs": []
    }
  ]
}